{
  "cells": [
    {
      "cell_type": "code",
      "execution_count": null,
      "id": "afca286f",
      "metadata": {
        "id": "afca286f"
      },
      "outputs": [],
      "source": [
        "import speech_recognition as sr"
      ]
    },
    {
      "cell_type": "code",
      "execution_count": null,
      "id": "69b8e5c4",
      "metadata": {
        "id": "69b8e5c4"
      },
      "outputs": [],
      "source": [
        "import pyttsx3"
      ]
    },
    {
      "cell_type": "code",
      "execution_count": null,
      "id": "0f975804",
      "metadata": {
        "id": "0f975804",
        "outputId": "cea13b46-458d-44aa-b196-3100c924959e"
      },
      "outputs": [
        {
          "name": "stdout",
          "output_type": "stream",
          "text": [
            "system listen\n",
            "hello how are you doing\n"
          ]
        }
      ],
      "source": [
        "engine=pyttsx3.init()\n",
        "r = sr.Recognizer()\n",
        "\n",
        "with sr.Microphone() as source:\n",
        "    print(\"system listen\")\n",
        "    audio = r.listen(source)\n",
        "\n",
        "query = r.recognize_google(audio, language=\"en-in\")\n",
        "print(query)\n",
        "engine.say(query)\n",
        "engine.runAndWait()"
      ]
    },
    {
      "cell_type": "code",
      "execution_count": null,
      "id": "b59f3dbc",
      "metadata": {
        "id": "b59f3dbc"
      },
      "outputs": [],
      "source": []
    }
  ],
  "metadata": {
    "kernelspec": {
      "display_name": "Python 3 (ipykernel)",
      "language": "python",
      "name": "python3"
    },
    "language_info": {
      "codemirror_mode": {
        "name": "ipython",
        "version": 3
      },
      "file_extension": ".py",
      "mimetype": "text/x-python",
      "name": "python",
      "nbconvert_exporter": "python",
      "pygments_lexer": "ipython3",
      "version": "3.11.5"
    },
    "colab": {
      "provenance": []
    }
  },
  "nbformat": 4,
  "nbformat_minor": 5
}